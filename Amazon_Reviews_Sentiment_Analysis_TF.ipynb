{
  "cells": [
    {
      "cell_type": "code",
      "execution_count": null,
      "metadata": {
        "id": "Ct9kenKeb-nn"
      },
      "outputs": [],
      "source": [
        "# Amazon Reviews Sentiment Analysis with TensorFlow"
      ]
    },
    {
      "cell_type": "code",
      "execution_count": null,
      "metadata": {
        "colab": {
          "base_uri": "https://localhost:8080/",
          "height": 52
        },
        "id": "7hsaNRQbz20J",
        "outputId": "848376d6-6b75-4085-ecb4-7ba50d468544"
      },
      "outputs": [
        {
          "output_type": "execute_result",
          "data": {
            "text/plain": [
              "\"\\nfrom google.colab import drive\\ndrive.mount('/content/drive')\\n\\n# Creating directory/file\\n! mkdir ~/.kaggle\\n\\n# Copying google drive folder onto the kaggle directory\\n!cp /content/drive/MyDrive/Colab_Notebooks/etc/kaggle.json ~/.kaggle/\\n\\n! chmod 600 ~/.kaggle/kaggle.json\\n\""
            ],
            "application/vnd.google.colaboratory.intrinsic+json": {
              "type": "string"
            }
          },
          "metadata": {},
          "execution_count": 2
        }
      ],
      "source": [
        "# Downloading dataset from kaggle\n",
        "\n",
        "'''\n",
        "from google.colab import drive\n",
        "drive.mount('/content/drive')\n",
        "\n",
        "# Creating directory/file\n",
        "! mkdir ~/.kaggle\n",
        "\n",
        "# Copying google drive folder onto the kaggle directory\n",
        "!cp /content/drive/MyDrive/Colab_Notebooks/etc/kaggle.json ~/.kaggle/\n",
        "\n",
        "! chmod 600 ~/.kaggle/kaggle.json\n",
        "'''"
      ]
    },
    {
      "cell_type": "code",
      "execution_count": null,
      "metadata": {
        "colab": {
          "base_uri": "https://localhost:8080/"
        },
        "id": "nEOtU6ta4YFe",
        "outputId": "c68065e4-e622-4efb-a841-7c384c9f8b67"
      },
      "outputs": [
        {
          "output_type": "stream",
          "name": "stdout",
          "text": [
            "Dataset URL: https://www.kaggle.com/datasets/arhamrumi/amazon-product-reviews\n",
            "License(s): CC0-1.0\n",
            "Downloading amazon-product-reviews.zip to /content\n",
            "100% 114M/115M [00:06<00:00, 23.1MB/s]\n",
            "100% 115M/115M [00:06<00:00, 18.0MB/s]\n",
            "Archive:  amazon-product-reviews.zip\n",
            "  inflating: Reviews.csv             \n"
          ]
        }
      ],
      "source": [
        "# Download and unzip file\n",
        "! kaggle datasets download -d arhamrumi/amazon-product-reviews\n",
        "! unzip amazon-product-reviews.zip\n"
      ]
    },
    {
      "cell_type": "markdown",
      "source": [
        "Once we download the data, we read it into pandas to do some data manipulation like selecting the columns of interest and changing the response variable which is rating from 1 to 5, to a binary class (good or bad)"
      ],
      "metadata": {
        "id": "RjeruNSfQ-8A"
      }
    },
    {
      "cell_type": "code",
      "execution_count": null,
      "metadata": {
        "id": "sHXG4DyF5GRJ"
      },
      "outputs": [],
      "source": [
        "import pandas as pd\n",
        "\n",
        "df = pd.read_csv('Reviews.csv')\n",
        "df['Score'] = df['Score'].replace({5:\"Good\", 4:\"Good\", 3:\"Bad\", 2:\"Bad\", 1:\"Bad\"})"
      ]
    },
    {
      "cell_type": "code",
      "execution_count": null,
      "metadata": {
        "colab": {
          "base_uri": "https://localhost:8080/",
          "height": 204
        },
        "id": "Vz4AR1hl7nVa",
        "outputId": "fee1c397-e34c-423d-c93b-c6296dfb6bca"
      },
      "outputs": [
        {
          "output_type": "execute_result",
          "data": {
            "text/plain": [
              "                                                Text Score\n",
              "0  I have bought several of the Vitality canned d...  Good\n",
              "1  Product arrived labeled as Jumbo Salted Peanut...   Bad\n",
              "2  This is a confection that has been around a fe...  Good\n",
              "3  If you are looking for the secret ingredient i...   Bad\n",
              "4  Great taffy at a great price.  There was a wid...  Good"
            ],
            "text/html": [
              "\n",
              "  <div id=\"df-dc9eab35-f4c0-451d-8b4e-55cc2048802e\" class=\"colab-df-container\">\n",
              "    <div>\n",
              "<style scoped>\n",
              "    .dataframe tbody tr th:only-of-type {\n",
              "        vertical-align: middle;\n",
              "    }\n",
              "\n",
              "    .dataframe tbody tr th {\n",
              "        vertical-align: top;\n",
              "    }\n",
              "\n",
              "    .dataframe thead th {\n",
              "        text-align: right;\n",
              "    }\n",
              "</style>\n",
              "<table border=\"1\" class=\"dataframe\">\n",
              "  <thead>\n",
              "    <tr style=\"text-align: right;\">\n",
              "      <th></th>\n",
              "      <th>Text</th>\n",
              "      <th>Score</th>\n",
              "    </tr>\n",
              "  </thead>\n",
              "  <tbody>\n",
              "    <tr>\n",
              "      <th>0</th>\n",
              "      <td>I have bought several of the Vitality canned d...</td>\n",
              "      <td>Good</td>\n",
              "    </tr>\n",
              "    <tr>\n",
              "      <th>1</th>\n",
              "      <td>Product arrived labeled as Jumbo Salted Peanut...</td>\n",
              "      <td>Bad</td>\n",
              "    </tr>\n",
              "    <tr>\n",
              "      <th>2</th>\n",
              "      <td>This is a confection that has been around a fe...</td>\n",
              "      <td>Good</td>\n",
              "    </tr>\n",
              "    <tr>\n",
              "      <th>3</th>\n",
              "      <td>If you are looking for the secret ingredient i...</td>\n",
              "      <td>Bad</td>\n",
              "    </tr>\n",
              "    <tr>\n",
              "      <th>4</th>\n",
              "      <td>Great taffy at a great price.  There was a wid...</td>\n",
              "      <td>Good</td>\n",
              "    </tr>\n",
              "  </tbody>\n",
              "</table>\n",
              "</div>\n",
              "    <div class=\"colab-df-buttons\">\n",
              "\n",
              "  <div class=\"colab-df-container\">\n",
              "    <button class=\"colab-df-convert\" onclick=\"convertToInteractive('df-dc9eab35-f4c0-451d-8b4e-55cc2048802e')\"\n",
              "            title=\"Convert this dataframe to an interactive table.\"\n",
              "            style=\"display:none;\">\n",
              "\n",
              "  <svg xmlns=\"http://www.w3.org/2000/svg\" height=\"24px\" viewBox=\"0 -960 960 960\">\n",
              "    <path d=\"M120-120v-720h720v720H120Zm60-500h600v-160H180v160Zm220 220h160v-160H400v160Zm0 220h160v-160H400v160ZM180-400h160v-160H180v160Zm440 0h160v-160H620v160ZM180-180h160v-160H180v160Zm440 0h160v-160H620v160Z\"/>\n",
              "  </svg>\n",
              "    </button>\n",
              "\n",
              "  <style>\n",
              "    .colab-df-container {\n",
              "      display:flex;\n",
              "      gap: 12px;\n",
              "    }\n",
              "\n",
              "    .colab-df-convert {\n",
              "      background-color: #E8F0FE;\n",
              "      border: none;\n",
              "      border-radius: 50%;\n",
              "      cursor: pointer;\n",
              "      display: none;\n",
              "      fill: #1967D2;\n",
              "      height: 32px;\n",
              "      padding: 0 0 0 0;\n",
              "      width: 32px;\n",
              "    }\n",
              "\n",
              "    .colab-df-convert:hover {\n",
              "      background-color: #E2EBFA;\n",
              "      box-shadow: 0px 1px 2px rgba(60, 64, 67, 0.3), 0px 1px 3px 1px rgba(60, 64, 67, 0.15);\n",
              "      fill: #174EA6;\n",
              "    }\n",
              "\n",
              "    .colab-df-buttons div {\n",
              "      margin-bottom: 4px;\n",
              "    }\n",
              "\n",
              "    [theme=dark] .colab-df-convert {\n",
              "      background-color: #3B4455;\n",
              "      fill: #D2E3FC;\n",
              "    }\n",
              "\n",
              "    [theme=dark] .colab-df-convert:hover {\n",
              "      background-color: #434B5C;\n",
              "      box-shadow: 0px 1px 3px 1px rgba(0, 0, 0, 0.15);\n",
              "      filter: drop-shadow(0px 1px 2px rgba(0, 0, 0, 0.3));\n",
              "      fill: #FFFFFF;\n",
              "    }\n",
              "  </style>\n",
              "\n",
              "    <script>\n",
              "      const buttonEl =\n",
              "        document.querySelector('#df-dc9eab35-f4c0-451d-8b4e-55cc2048802e button.colab-df-convert');\n",
              "      buttonEl.style.display =\n",
              "        google.colab.kernel.accessAllowed ? 'block' : 'none';\n",
              "\n",
              "      async function convertToInteractive(key) {\n",
              "        const element = document.querySelector('#df-dc9eab35-f4c0-451d-8b4e-55cc2048802e');\n",
              "        const dataTable =\n",
              "          await google.colab.kernel.invokeFunction('convertToInteractive',\n",
              "                                                    [key], {});\n",
              "        if (!dataTable) return;\n",
              "\n",
              "        const docLinkHtml = 'Like what you see? Visit the ' +\n",
              "          '<a target=\"_blank\" href=https://colab.research.google.com/notebooks/data_table.ipynb>data table notebook</a>'\n",
              "          + ' to learn more about interactive tables.';\n",
              "        element.innerHTML = '';\n",
              "        dataTable['output_type'] = 'display_data';\n",
              "        await google.colab.output.renderOutput(dataTable, element);\n",
              "        const docLink = document.createElement('div');\n",
              "        docLink.innerHTML = docLinkHtml;\n",
              "        element.appendChild(docLink);\n",
              "      }\n",
              "    </script>\n",
              "  </div>\n",
              "\n",
              "\n",
              "<div id=\"df-1f16bb5e-aa1f-42c8-8b95-5a816360ec3d\">\n",
              "  <button class=\"colab-df-quickchart\" onclick=\"quickchart('df-1f16bb5e-aa1f-42c8-8b95-5a816360ec3d')\"\n",
              "            title=\"Suggest charts\"\n",
              "            style=\"display:none;\">\n",
              "\n",
              "<svg xmlns=\"http://www.w3.org/2000/svg\" height=\"24px\"viewBox=\"0 0 24 24\"\n",
              "     width=\"24px\">\n",
              "    <g>\n",
              "        <path d=\"M19 3H5c-1.1 0-2 .9-2 2v14c0 1.1.9 2 2 2h14c1.1 0 2-.9 2-2V5c0-1.1-.9-2-2-2zM9 17H7v-7h2v7zm4 0h-2V7h2v10zm4 0h-2v-4h2v4z\"/>\n",
              "    </g>\n",
              "</svg>\n",
              "  </button>\n",
              "\n",
              "<style>\n",
              "  .colab-df-quickchart {\n",
              "      --bg-color: #E8F0FE;\n",
              "      --fill-color: #1967D2;\n",
              "      --hover-bg-color: #E2EBFA;\n",
              "      --hover-fill-color: #174EA6;\n",
              "      --disabled-fill-color: #AAA;\n",
              "      --disabled-bg-color: #DDD;\n",
              "  }\n",
              "\n",
              "  [theme=dark] .colab-df-quickchart {\n",
              "      --bg-color: #3B4455;\n",
              "      --fill-color: #D2E3FC;\n",
              "      --hover-bg-color: #434B5C;\n",
              "      --hover-fill-color: #FFFFFF;\n",
              "      --disabled-bg-color: #3B4455;\n",
              "      --disabled-fill-color: #666;\n",
              "  }\n",
              "\n",
              "  .colab-df-quickchart {\n",
              "    background-color: var(--bg-color);\n",
              "    border: none;\n",
              "    border-radius: 50%;\n",
              "    cursor: pointer;\n",
              "    display: none;\n",
              "    fill: var(--fill-color);\n",
              "    height: 32px;\n",
              "    padding: 0;\n",
              "    width: 32px;\n",
              "  }\n",
              "\n",
              "  .colab-df-quickchart:hover {\n",
              "    background-color: var(--hover-bg-color);\n",
              "    box-shadow: 0 1px 2px rgba(60, 64, 67, 0.3), 0 1px 3px 1px rgba(60, 64, 67, 0.15);\n",
              "    fill: var(--button-hover-fill-color);\n",
              "  }\n",
              "\n",
              "  .colab-df-quickchart-complete:disabled,\n",
              "  .colab-df-quickchart-complete:disabled:hover {\n",
              "    background-color: var(--disabled-bg-color);\n",
              "    fill: var(--disabled-fill-color);\n",
              "    box-shadow: none;\n",
              "  }\n",
              "\n",
              "  .colab-df-spinner {\n",
              "    border: 2px solid var(--fill-color);\n",
              "    border-color: transparent;\n",
              "    border-bottom-color: var(--fill-color);\n",
              "    animation:\n",
              "      spin 1s steps(1) infinite;\n",
              "  }\n",
              "\n",
              "  @keyframes spin {\n",
              "    0% {\n",
              "      border-color: transparent;\n",
              "      border-bottom-color: var(--fill-color);\n",
              "      border-left-color: var(--fill-color);\n",
              "    }\n",
              "    20% {\n",
              "      border-color: transparent;\n",
              "      border-left-color: var(--fill-color);\n",
              "      border-top-color: var(--fill-color);\n",
              "    }\n",
              "    30% {\n",
              "      border-color: transparent;\n",
              "      border-left-color: var(--fill-color);\n",
              "      border-top-color: var(--fill-color);\n",
              "      border-right-color: var(--fill-color);\n",
              "    }\n",
              "    40% {\n",
              "      border-color: transparent;\n",
              "      border-right-color: var(--fill-color);\n",
              "      border-top-color: var(--fill-color);\n",
              "    }\n",
              "    60% {\n",
              "      border-color: transparent;\n",
              "      border-right-color: var(--fill-color);\n",
              "    }\n",
              "    80% {\n",
              "      border-color: transparent;\n",
              "      border-right-color: var(--fill-color);\n",
              "      border-bottom-color: var(--fill-color);\n",
              "    }\n",
              "    90% {\n",
              "      border-color: transparent;\n",
              "      border-bottom-color: var(--fill-color);\n",
              "    }\n",
              "  }\n",
              "</style>\n",
              "\n",
              "  <script>\n",
              "    async function quickchart(key) {\n",
              "      const quickchartButtonEl =\n",
              "        document.querySelector('#' + key + ' button');\n",
              "      quickchartButtonEl.disabled = true;  // To prevent multiple clicks.\n",
              "      quickchartButtonEl.classList.add('colab-df-spinner');\n",
              "      try {\n",
              "        const charts = await google.colab.kernel.invokeFunction(\n",
              "            'suggestCharts', [key], {});\n",
              "      } catch (error) {\n",
              "        console.error('Error during call to suggestCharts:', error);\n",
              "      }\n",
              "      quickchartButtonEl.classList.remove('colab-df-spinner');\n",
              "      quickchartButtonEl.classList.add('colab-df-quickchart-complete');\n",
              "    }\n",
              "    (() => {\n",
              "      let quickchartButtonEl =\n",
              "        document.querySelector('#df-1f16bb5e-aa1f-42c8-8b95-5a816360ec3d button');\n",
              "      quickchartButtonEl.style.display =\n",
              "        google.colab.kernel.accessAllowed ? 'block' : 'none';\n",
              "    })();\n",
              "  </script>\n",
              "</div>\n",
              "\n",
              "    </div>\n",
              "  </div>\n"
            ],
            "application/vnd.google.colaboratory.intrinsic+json": {
              "type": "dataframe",
              "variable_name": "df1"
            }
          },
          "metadata": {},
          "execution_count": 8
        }
      ],
      "source": [
        "df1 = df.copy()[['Text', 'Score']]\n",
        "\n",
        "df1.head()"
      ]
    },
    {
      "cell_type": "markdown",
      "source": [
        "We then preprocess the data for sentiment analysis. This involves removing any non alphabetical characters, making all of the text lowercase, and replacing our reponse with 0 and 1 for modeling."
      ],
      "metadata": {
        "id": "WBtliiXcRYeS"
      }
    },
    {
      "cell_type": "code",
      "execution_count": null,
      "metadata": {
        "colab": {
          "base_uri": "https://localhost:8080/",
          "height": 204
        },
        "id": "AzT01DLl_Cuu",
        "outputId": "f35bdea6-f9a0-472e-ae21-8c7c9ff4d1c9"
      },
      "outputs": [
        {
          "output_type": "execute_result",
          "data": {
            "text/plain": [
              "                                                text  label\n",
              "0  i have bought several of the vitality canned d...      1\n",
              "1  product arrived labeled as jumbo salted peanut...      0\n",
              "2  this is a confection that has been around a fe...      1\n",
              "3  if you are looking for the secret ingredient i...      0\n",
              "4  great taffy at a great price  there was a wide...      1"
            ],
            "text/html": [
              "\n",
              "  <div id=\"df-a0c66e7e-6d8b-4e01-ad82-872dfc8eff10\" class=\"colab-df-container\">\n",
              "    <div>\n",
              "<style scoped>\n",
              "    .dataframe tbody tr th:only-of-type {\n",
              "        vertical-align: middle;\n",
              "    }\n",
              "\n",
              "    .dataframe tbody tr th {\n",
              "        vertical-align: top;\n",
              "    }\n",
              "\n",
              "    .dataframe thead th {\n",
              "        text-align: right;\n",
              "    }\n",
              "</style>\n",
              "<table border=\"1\" class=\"dataframe\">\n",
              "  <thead>\n",
              "    <tr style=\"text-align: right;\">\n",
              "      <th></th>\n",
              "      <th>text</th>\n",
              "      <th>label</th>\n",
              "    </tr>\n",
              "  </thead>\n",
              "  <tbody>\n",
              "    <tr>\n",
              "      <th>0</th>\n",
              "      <td>i have bought several of the vitality canned d...</td>\n",
              "      <td>1</td>\n",
              "    </tr>\n",
              "    <tr>\n",
              "      <th>1</th>\n",
              "      <td>product arrived labeled as jumbo salted peanut...</td>\n",
              "      <td>0</td>\n",
              "    </tr>\n",
              "    <tr>\n",
              "      <th>2</th>\n",
              "      <td>this is a confection that has been around a fe...</td>\n",
              "      <td>1</td>\n",
              "    </tr>\n",
              "    <tr>\n",
              "      <th>3</th>\n",
              "      <td>if you are looking for the secret ingredient i...</td>\n",
              "      <td>0</td>\n",
              "    </tr>\n",
              "    <tr>\n",
              "      <th>4</th>\n",
              "      <td>great taffy at a great price  there was a wide...</td>\n",
              "      <td>1</td>\n",
              "    </tr>\n",
              "  </tbody>\n",
              "</table>\n",
              "</div>\n",
              "    <div class=\"colab-df-buttons\">\n",
              "\n",
              "  <div class=\"colab-df-container\">\n",
              "    <button class=\"colab-df-convert\" onclick=\"convertToInteractive('df-a0c66e7e-6d8b-4e01-ad82-872dfc8eff10')\"\n",
              "            title=\"Convert this dataframe to an interactive table.\"\n",
              "            style=\"display:none;\">\n",
              "\n",
              "  <svg xmlns=\"http://www.w3.org/2000/svg\" height=\"24px\" viewBox=\"0 -960 960 960\">\n",
              "    <path d=\"M120-120v-720h720v720H120Zm60-500h600v-160H180v160Zm220 220h160v-160H400v160Zm0 220h160v-160H400v160ZM180-400h160v-160H180v160Zm440 0h160v-160H620v160ZM180-180h160v-160H180v160Zm440 0h160v-160H620v160Z\"/>\n",
              "  </svg>\n",
              "    </button>\n",
              "\n",
              "  <style>\n",
              "    .colab-df-container {\n",
              "      display:flex;\n",
              "      gap: 12px;\n",
              "    }\n",
              "\n",
              "    .colab-df-convert {\n",
              "      background-color: #E8F0FE;\n",
              "      border: none;\n",
              "      border-radius: 50%;\n",
              "      cursor: pointer;\n",
              "      display: none;\n",
              "      fill: #1967D2;\n",
              "      height: 32px;\n",
              "      padding: 0 0 0 0;\n",
              "      width: 32px;\n",
              "    }\n",
              "\n",
              "    .colab-df-convert:hover {\n",
              "      background-color: #E2EBFA;\n",
              "      box-shadow: 0px 1px 2px rgba(60, 64, 67, 0.3), 0px 1px 3px 1px rgba(60, 64, 67, 0.15);\n",
              "      fill: #174EA6;\n",
              "    }\n",
              "\n",
              "    .colab-df-buttons div {\n",
              "      margin-bottom: 4px;\n",
              "    }\n",
              "\n",
              "    [theme=dark] .colab-df-convert {\n",
              "      background-color: #3B4455;\n",
              "      fill: #D2E3FC;\n",
              "    }\n",
              "\n",
              "    [theme=dark] .colab-df-convert:hover {\n",
              "      background-color: #434B5C;\n",
              "      box-shadow: 0px 1px 3px 1px rgba(0, 0, 0, 0.15);\n",
              "      filter: drop-shadow(0px 1px 2px rgba(0, 0, 0, 0.3));\n",
              "      fill: #FFFFFF;\n",
              "    }\n",
              "  </style>\n",
              "\n",
              "    <script>\n",
              "      const buttonEl =\n",
              "        document.querySelector('#df-a0c66e7e-6d8b-4e01-ad82-872dfc8eff10 button.colab-df-convert');\n",
              "      buttonEl.style.display =\n",
              "        google.colab.kernel.accessAllowed ? 'block' : 'none';\n",
              "\n",
              "      async function convertToInteractive(key) {\n",
              "        const element = document.querySelector('#df-a0c66e7e-6d8b-4e01-ad82-872dfc8eff10');\n",
              "        const dataTable =\n",
              "          await google.colab.kernel.invokeFunction('convertToInteractive',\n",
              "                                                    [key], {});\n",
              "        if (!dataTable) return;\n",
              "\n",
              "        const docLinkHtml = 'Like what you see? Visit the ' +\n",
              "          '<a target=\"_blank\" href=https://colab.research.google.com/notebooks/data_table.ipynb>data table notebook</a>'\n",
              "          + ' to learn more about interactive tables.';\n",
              "        element.innerHTML = '';\n",
              "        dataTable['output_type'] = 'display_data';\n",
              "        await google.colab.output.renderOutput(dataTable, element);\n",
              "        const docLink = document.createElement('div');\n",
              "        docLink.innerHTML = docLinkHtml;\n",
              "        element.appendChild(docLink);\n",
              "      }\n",
              "    </script>\n",
              "  </div>\n",
              "\n",
              "\n",
              "<div id=\"df-9ef0243b-d4b3-43c1-9281-2e72d689e1e3\">\n",
              "  <button class=\"colab-df-quickchart\" onclick=\"quickchart('df-9ef0243b-d4b3-43c1-9281-2e72d689e1e3')\"\n",
              "            title=\"Suggest charts\"\n",
              "            style=\"display:none;\">\n",
              "\n",
              "<svg xmlns=\"http://www.w3.org/2000/svg\" height=\"24px\"viewBox=\"0 0 24 24\"\n",
              "     width=\"24px\">\n",
              "    <g>\n",
              "        <path d=\"M19 3H5c-1.1 0-2 .9-2 2v14c0 1.1.9 2 2 2h14c1.1 0 2-.9 2-2V5c0-1.1-.9-2-2-2zM9 17H7v-7h2v7zm4 0h-2V7h2v10zm4 0h-2v-4h2v4z\"/>\n",
              "    </g>\n",
              "</svg>\n",
              "  </button>\n",
              "\n",
              "<style>\n",
              "  .colab-df-quickchart {\n",
              "      --bg-color: #E8F0FE;\n",
              "      --fill-color: #1967D2;\n",
              "      --hover-bg-color: #E2EBFA;\n",
              "      --hover-fill-color: #174EA6;\n",
              "      --disabled-fill-color: #AAA;\n",
              "      --disabled-bg-color: #DDD;\n",
              "  }\n",
              "\n",
              "  [theme=dark] .colab-df-quickchart {\n",
              "      --bg-color: #3B4455;\n",
              "      --fill-color: #D2E3FC;\n",
              "      --hover-bg-color: #434B5C;\n",
              "      --hover-fill-color: #FFFFFF;\n",
              "      --disabled-bg-color: #3B4455;\n",
              "      --disabled-fill-color: #666;\n",
              "  }\n",
              "\n",
              "  .colab-df-quickchart {\n",
              "    background-color: var(--bg-color);\n",
              "    border: none;\n",
              "    border-radius: 50%;\n",
              "    cursor: pointer;\n",
              "    display: none;\n",
              "    fill: var(--fill-color);\n",
              "    height: 32px;\n",
              "    padding: 0;\n",
              "    width: 32px;\n",
              "  }\n",
              "\n",
              "  .colab-df-quickchart:hover {\n",
              "    background-color: var(--hover-bg-color);\n",
              "    box-shadow: 0 1px 2px rgba(60, 64, 67, 0.3), 0 1px 3px 1px rgba(60, 64, 67, 0.15);\n",
              "    fill: var(--button-hover-fill-color);\n",
              "  }\n",
              "\n",
              "  .colab-df-quickchart-complete:disabled,\n",
              "  .colab-df-quickchart-complete:disabled:hover {\n",
              "    background-color: var(--disabled-bg-color);\n",
              "    fill: var(--disabled-fill-color);\n",
              "    box-shadow: none;\n",
              "  }\n",
              "\n",
              "  .colab-df-spinner {\n",
              "    border: 2px solid var(--fill-color);\n",
              "    border-color: transparent;\n",
              "    border-bottom-color: var(--fill-color);\n",
              "    animation:\n",
              "      spin 1s steps(1) infinite;\n",
              "  }\n",
              "\n",
              "  @keyframes spin {\n",
              "    0% {\n",
              "      border-color: transparent;\n",
              "      border-bottom-color: var(--fill-color);\n",
              "      border-left-color: var(--fill-color);\n",
              "    }\n",
              "    20% {\n",
              "      border-color: transparent;\n",
              "      border-left-color: var(--fill-color);\n",
              "      border-top-color: var(--fill-color);\n",
              "    }\n",
              "    30% {\n",
              "      border-color: transparent;\n",
              "      border-left-color: var(--fill-color);\n",
              "      border-top-color: var(--fill-color);\n",
              "      border-right-color: var(--fill-color);\n",
              "    }\n",
              "    40% {\n",
              "      border-color: transparent;\n",
              "      border-right-color: var(--fill-color);\n",
              "      border-top-color: var(--fill-color);\n",
              "    }\n",
              "    60% {\n",
              "      border-color: transparent;\n",
              "      border-right-color: var(--fill-color);\n",
              "    }\n",
              "    80% {\n",
              "      border-color: transparent;\n",
              "      border-right-color: var(--fill-color);\n",
              "      border-bottom-color: var(--fill-color);\n",
              "    }\n",
              "    90% {\n",
              "      border-color: transparent;\n",
              "      border-bottom-color: var(--fill-color);\n",
              "    }\n",
              "  }\n",
              "</style>\n",
              "\n",
              "  <script>\n",
              "    async function quickchart(key) {\n",
              "      const quickchartButtonEl =\n",
              "        document.querySelector('#' + key + ' button');\n",
              "      quickchartButtonEl.disabled = true;  // To prevent multiple clicks.\n",
              "      quickchartButtonEl.classList.add('colab-df-spinner');\n",
              "      try {\n",
              "        const charts = await google.colab.kernel.invokeFunction(\n",
              "            'suggestCharts', [key], {});\n",
              "      } catch (error) {\n",
              "        console.error('Error during call to suggestCharts:', error);\n",
              "      }\n",
              "      quickchartButtonEl.classList.remove('colab-df-spinner');\n",
              "      quickchartButtonEl.classList.add('colab-df-quickchart-complete');\n",
              "    }\n",
              "    (() => {\n",
              "      let quickchartButtonEl =\n",
              "        document.querySelector('#df-9ef0243b-d4b3-43c1-9281-2e72d689e1e3 button');\n",
              "      quickchartButtonEl.style.display =\n",
              "        google.colab.kernel.accessAllowed ? 'block' : 'none';\n",
              "    })();\n",
              "  </script>\n",
              "</div>\n",
              "\n",
              "    </div>\n",
              "  </div>\n"
            ],
            "application/vnd.google.colaboratory.intrinsic+json": {
              "type": "dataframe",
              "variable_name": "df1"
            }
          },
          "metadata": {},
          "execution_count": 9
        }
      ],
      "source": [
        "import re\n",
        "\n",
        "# ReGex replacing all non alphabetical characters with an empty string\n",
        "df1[\"Text\"] = df1[\"Text\"].apply(lambda x: re.sub(r'[^\\w\\s]', '', x))\n",
        "# Making sure all characters are lowercase\n",
        "df1['Text'] = df1[\"Text\"].str.lower()\n",
        "# Converting labels to integers\n",
        "df1['Score'] = df1['Score'].replace({\"Good\": 1, \"Bad\": 0})\n",
        "\n",
        "df1.rename(columns = {\n",
        "    'Score': 'label',\n",
        "    'Text': 'text'\n",
        "},inplace = True)\n",
        "\n",
        "df1.head()"
      ]
    },
    {
      "cell_type": "markdown",
      "source": [
        "Next we take a look at the distribution of our reponse. We see that there are more positive reviews than negative reviews."
      ],
      "metadata": {
        "id": "n24vxMPlR8f0"
      }
    },
    {
      "cell_type": "code",
      "execution_count": null,
      "metadata": {
        "colab": {
          "base_uri": "https://localhost:8080/",
          "height": 472
        },
        "id": "WhZtRd_JwlI0",
        "outputId": "c2ff8545-bdb3-4589-cf95-5bc306bc0c9f"
      },
      "outputs": [
        {
          "output_type": "display_data",
          "data": {
            "text/plain": [
              "<Figure size 640x480 with 1 Axes>"
            ],
            "image/png": "[encoded data removed]"
          },
          "metadata": {}
        }
      ],
      "source": [
        "import matplotlib.pyplot as plt\n",
        "\n",
        "plot = df1['label'].value_counts().plot(kind = 'bar')\n",
        "plot.set_xticklabels(['Positive', 'Negative'])\n",
        "plt.xlabel('Review')\n",
        "plt.ylabel('Count')\n",
        "plt.title('Distribution of good and bad reviews')\n",
        "plt.xticks(rotation=0)\n",
        "plt.show()"
      ]
    },
    {
      "cell_type": "code",
      "execution_count": null,
      "metadata": {
        "colab": {
          "base_uri": "https://localhost:8080/",
          "height": 428
        },
        "id": "yZj42rV3_1Yt",
        "outputId": "9911224a-aa84-4272-b106-adb51b705067"
      },
      "outputs": [
        {
          "output_type": "display_data",
          "data": {
            "text/plain": [
              "<Figure size 640x480 with 1 Axes>"
            ],
            "image/png": "[encoded data removed]"
          },
          "metadata": {}
        }
      ],
      "source": [
        "labels=['Positive', 'Negative']\n",
        "colors = ['salmon','lightblue']\n",
        "sizes=[df1['label'].value_counts()[1],\n",
        "     df1['label'].value_counts()[0]]\n",
        "fig1, ax1 = plt.subplots()\n",
        "ax1.pie(sizes, labels=labels, colors=colors,autopct='%1.0f%%')\n",
        "ax1.axis('equal')\n",
        "ax1.set_title('Distribution of positive and negative reviews')\n",
        "plt.show()"
      ]
    },
    {
      "cell_type": "code",
      "execution_count": null,
      "metadata": {
        "id": "VU-aFN0DZfiY"
      },
      "outputs": [],
      "source": [
        "# Set our x and y (text and labels)\n",
        "\n",
        "texts = df1['text']\n",
        "labels = df1['label']"
      ]
    },
    {
      "cell_type": "markdown",
      "source": [
        "Lets start creating the model!"
      ],
      "metadata": {
        "id": "3MT8U5XzTetJ"
      }
    },
    {
      "cell_type": "code",
      "execution_count": null,
      "metadata": {
        "id": "R1ro2JyMZ6lJ"
      },
      "outputs": [],
      "source": [
        "import tensorflow as tf\n",
        "from tensorflow import keras\n",
        "from tensorflow.keras.preprocessing.sequence import pad_sequences\n",
        "\n",
        "'''\n",
        "Preprocessing layer which maps text features to integer sequences\n",
        "\n",
        "Steps:\n",
        "Tokenizer: converts words/letters into numeric data\n",
        "tokenizer.adapt(): layer is adapted, it will analyze the dataset,\n",
        "determine the frequency of individual string values,\n",
        "and create a vocabulary from them.\n",
        "'''\n",
        "\n",
        "tokenizer = tf.keras.layers.TextVectorization(max_tokens = 10000)\n",
        "tokenizer.adapt(texts)"
      ]
    },
    {
      "cell_type": "code",
      "execution_count": null,
      "metadata": {
        "colab": {
          "base_uri": "https://localhost:8080/"
        },
        "id": "XDhKxXgUcDhr",
        "outputId": "640bb054-8b71-43b4-ad40-e64683383dac"
      },
      "outputs": [
        {
          "output_type": "stream",
          "name": "stdout",
          "text": [
            "tf.Tensor(\n",
            "[[   3   17  122 ...    0    0    0]\n",
            " [  43  369 2184 ...    0    0    0]\n",
            " [  10    9    5 ...    0    0    0]\n",
            " ...\n",
            " [  28  383   20 ...    0    0    0]\n",
            " [  28   20    2 ...    0    0    0]\n",
            " [   3   90   39 ...    0    0    0]], shape=(568454, 3414), dtype=int64)\n",
            "[[   3   17  122 ...    0    0    0]\n",
            " [  43  369 2184 ...    0    0    0]\n",
            " [  10    9    5 ...    0    0    0]\n",
            " ...\n",
            " [  28  383   20 ...    0    0    0]\n",
            " [  28   20    2 ...    0    0    0]\n",
            " [   3   90   39 ...    0    0    0]]\n"
          ]
        }
      ],
      "source": [
        "'''\n",
        "This process involved using the created word vocabulary to convert\n",
        "each text into a sequence of integers\n",
        "\n",
        "Padded sequences() involves add zeros to the end of each sequences\n",
        "to make sure all the sequences are of the same length.\n",
        "'''\n",
        "import pickle\n",
        "\n",
        "sequences = tokenizer(texts)\n",
        "print(sequences)\n",
        "\n",
        "# Save the tokenizer\n",
        "with open('/content/drive/MyDrive/Colab_Notebooks/etc/tokenizer.pickle', 'wb') as handle:\n",
        "    pickle.dump(tokenizer, handle, protocol=pickle.HIGHEST_PROTOCOL)\n",
        "\n",
        "padded_sequences = pad_sequences(sequences)\n",
        "print(padded_sequences)"
      ]
    },
    {
      "cell_type": "code",
      "execution_count": null,
      "metadata": {
        "colab": {
          "base_uri": "https://localhost:8080/"
        },
        "id": "FdOUB3RLg72r",
        "outputId": "81663fc9-2554-407c-f8d4-dfaaeeda9f28"
      },
      "outputs": [
        {
          "output_type": "stream",
          "name": "stdout",
          "text": [
            "Number of unique labels: 2\n",
            "Number of unique words: 10000\n"
          ]
        }
      ],
      "source": [
        "import numpy as np\n",
        "\n",
        "print(\"Number of unique labels:\", len(np.unique(labels)))\n",
        "print(\"Number of unique words:\", len(tokenizer.get_vocabulary()))"
      ]
    },
    {
      "cell_type": "code",
      "execution_count": null,
      "metadata": {
        "colab": {
          "base_uri": "https://localhost:8080/"
        },
        "id": "Iwq2NcGSoJjY",
        "outputId": "e1017592-de8d-43ac-d21d-d5259a1b663a"
      },
      "outputs": [
        {
          "output_type": "execute_result",
          "data": {
            "text/plain": [
              "True"
            ]
          },
          "metadata": {},
          "execution_count": 13
        }
      ],
      "source": [
        "len(labels) ==len(padded_sequences)"
      ]
    },
    {
      "cell_type": "markdown",
      "source": [
        "We checked that our data is good after the embedding and tokenization process. Now lets split the data."
      ],
      "metadata": {
        "id": "14AoZaj_TujA"
      }
    },
    {
      "cell_type": "code",
      "execution_count": null,
      "metadata": {
        "id": "JdWyxcnGok36"
      },
      "outputs": [],
      "source": [
        "from sklearn.model_selection import train_test_split\n",
        "\n",
        "x_train, x_test, y_train, y_test = train_test_split(padded_sequences, labels, test_size = 0.2)"
      ]
    },
    {
      "cell_type": "code",
      "execution_count": null,
      "metadata": {
        "id": "NPMTyg86_CiT"
      },
      "outputs": [],
      "source": [
        "# Convert to tensors so that they can be ran through the neural network\n",
        "\n",
        "x_train = tf.convert_to_tensor(x_train)\n",
        "x_test = tf.convert_to_tensor(x_test)\n",
        "y_train = tf.convert_to_tensor(y_train)\n",
        "y_test = tf.convert_to_tensor(y_test)"
      ]
    },
    {
      "cell_type": "code",
      "execution_count": null,
      "metadata": {
        "id": "bJjoAM2FjcDm"
      },
      "outputs": [],
      "source": [
        "# Create the model\n",
        "from tensorflow.keras.models import Sequential\n",
        "from tensorflow.keras.layers import Embedding, LSTM, Dense\n",
        "\n",
        "'''\n",
        "Sequential model is an appropriate model for a plain stack of layers\n",
        "where each layer has exactly one input tensor and one output tensor.\n",
        "Like a pipeline for each of the parts of the model.\n",
        "Good for inputs or outputs that involve sequences of data.\n",
        "\n",
        "Embedding is a way to represent categorical data (words in a sentence)\n",
        "as dense vectors of real numbers\n",
        "In our case since we have 10,000 unique words, each column in that vector\n",
        "represents a unique word, and a 1 at a certain index represents the presence\n",
        "of that word in the sentence.\n",
        "mask_zero = True takes into account the padding zeros in the sequences.\n",
        "\n",
        "Recurrent Neural Network (RNN)\n",
        "A neural network that has the presence of feedback connections that allows the\n",
        "flow of information to persist For example when information\n",
        "flows from one part to another the model will remember the previous input\n",
        "for future use (has a memory state in neuron) though it is short term memory.\n",
        "\n",
        "LTSM: Long Short-Term Memory:\n",
        "A LTSM model is an improved version of RNN, as it has memory cell that can\n",
        "remember information for longer periods of time.\n",
        "Fixes the problem of vanishing gradients in a regular RNN by incorporating\n",
        "a long-term memory state and a gating mechanism which controls the amount of\n",
        "information that is passed through the network.\n",
        "(What percentage of the information to forget, retain, etc.)\n",
        "\n",
        "Dense Layer:\n",
        "A dense layer is a layer of neurons where each neuron is connected to\n",
        "every neuron in the previous layer. Usually used in the final stages of the\n",
        "model.\n",
        "Adding bias shifts the activation function which is used to offset the result,\n",
        "bias adds flexibility to the model. Think of nudging a steer wheel even while the\n",
        "car is driving straight. Can help prevent overfitting.\n",
        "\n",
        "Activation function: Goal is to introduce non-linearity into the model, allowing\n",
        "the model to learn more complex patterns in the data.\n",
        "Activation function decides whether a neuron should be activated\n",
        "or not by calculating the weighted sum and further adding bias to it.\n",
        "Activations make back-prop possible since they return the loss/gradient to\n",
        "previous layers since they are differentiable, which allows the model to\n",
        "learn and adjust the weights/biases accordingly.\n",
        "We will use a sigmoid function for our output dense layer  in this case\n",
        "because we have a binary classification problem\n",
        " and we are using an RNN model.\n",
        "'''\n",
        "\n",
        "\n",
        "model = Sequential([\n",
        "    Embedding(input_dim = len(tokenizer.get_vocabulary()), output_dim = 64,\n",
        "    mask_zero = True),\n",
        "    LSTM(64),\n",
        "    Dense(1, activation = \"sigmoid\")])\n"
      ]
    },
    {
      "cell_type": "code",
      "execution_count": null,
      "metadata": {
        "id": "sF-CJ8WuEu-o"
      },
      "outputs": [],
      "source": [
        "# Compile the model\n",
        "\n",
        "'''\n",
        "Binary cross entropy is a measure of the dissimilarity between actual and predicted\n",
        "probabilities of points in the positive class.\n",
        "Penalizing wrong confident predictions\n",
        "\n",
        "Adam is an optimization algorithm that can be used instead of the classical stochastic\n",
        "gradient descent to update network weights iteratively to minimize a cost function.\n",
        "Adam is a mix of AdaGrad and RMSProp algorithms.\n",
        "Adaptive learning rate algorithm. Which means it dynamically adjusts the learning\n",
        "rate for each individual parameter within a model, rather than using a single\n",
        "global learning rate.\n",
        "It is used because of its performance, it can handle sparse gradients, and it\n",
        "converges quickly because of its adaptive learning rate.\n",
        "'''\n",
        "\n",
        "model.compile(loss = \"binary_crossentropy\", optimizer = \"adam\", metrics = [\"accuracy\"])"
      ]
    },
    {
      "cell_type": "code",
      "execution_count": null,
      "metadata": {
        "id": "OactoRCLMihk"
      },
      "outputs": [],
      "source": [
        "'''\n",
        "This gets the logs which includes metrics of the model for each epoch\n",
        "after it has been trained\n",
        "'''\n",
        "\n",
        "from keras.callbacks import CSVLogger\n",
        "\n",
        "csv_logger = CSVLogger('/content/drive/MyDrive/Colab_Notebooks/etc/training1.log', separator=',', append=False)"
      ]
    },
    {
      "cell_type": "code",
      "execution_count": null,
      "metadata": {
        "colab": {
          "base_uri": "https://localhost:8080/"
        },
        "id": "4uzqqDAME3Kc",
        "outputId": "990a0e43-c96b-4b0e-c050-afb70cd25bcb"
      },
      "outputs": [
        {
          "output_type": "stream",
          "name": "stdout",
          "text": [
            "Epoch 1/10\n",
            "\u001b[1m7106/7106\u001b[0m \u001b[32m━━━━━━━━━━━━━━━━━━━━\u001b[0m\u001b[37m\u001b[0m \u001b[1m165s\u001b[0m 23ms/step - accuracy: 0.8794 - loss: 0.2916 - val_accuracy: 0.9227 - val_loss: 0.1911\n",
            "Epoch 2/10\n",
            "\u001b[1m7106/7106\u001b[0m \u001b[32m━━━━━━━━━━━━━━━━━━━━\u001b[0m\u001b[37m\u001b[0m \u001b[1m160s\u001b[0m 23ms/step - accuracy: 0.9355 - loss: 0.1703 - val_accuracy: 0.9331 - val_loss: 0.1744\n",
            "Epoch 3/10\n",
            "\u001b[1m7106/7106\u001b[0m \u001b[32m━━━━━━━━━━━━━━━━━━━━\u001b[0m\u001b[37m\u001b[0m \u001b[1m161s\u001b[0m 23ms/step - accuracy: 0.9494 - loss: 0.1358 - val_accuracy: 0.9392 - val_loss: 0.1622\n",
            "Epoch 4/10\n",
            "\u001b[1m7106/7106\u001b[0m \u001b[32m━━━━━━━━━━━━━━━━━━━━\u001b[0m\u001b[37m\u001b[0m \u001b[1m161s\u001b[0m 23ms/step - accuracy: 0.9592 - loss: 0.1106 - val_accuracy: 0.9405 - val_loss: 0.1639\n",
            "Epoch 5/10\n",
            "\u001b[1m7106/7106\u001b[0m \u001b[32m━━━━━━━━━━━━━━━━━━━━\u001b[0m\u001b[37m\u001b[0m \u001b[1m160s\u001b[0m 22ms/step - accuracy: 0.9666 - loss: 0.0927 - val_accuracy: 0.9409 - val_loss: 0.1704\n",
            "Epoch 6/10\n",
            "\u001b[1m7106/7106\u001b[0m \u001b[32m━━━━━━━━━━━━━━━━━━━━\u001b[0m\u001b[37m\u001b[0m \u001b[1m160s\u001b[0m 22ms/step - accuracy: 0.9732 - loss: 0.0759 - val_accuracy: 0.9427 - val_loss: 0.1759\n",
            "Epoch 7/10\n",
            "\u001b[1m7106/7106\u001b[0m \u001b[32m━━━━━━━━━━━━━━━━━━━━\u001b[0m\u001b[37m\u001b[0m \u001b[1m164s\u001b[0m 23ms/step - accuracy: 0.9777 - loss: 0.0631 - val_accuracy: 0.9421 - val_loss: 0.1920\n",
            "Epoch 8/10\n",
            "\u001b[1m7106/7106\u001b[0m \u001b[32m━━━━━━━━━━━━━━━━━━━━\u001b[0m\u001b[37m\u001b[0m \u001b[1m161s\u001b[0m 23ms/step - accuracy: 0.9823 - loss: 0.0518 - val_accuracy: 0.9405 - val_loss: 0.2018\n",
            "Epoch 9/10\n",
            "\u001b[1m7106/7106\u001b[0m \u001b[32m━━━━━━━━━━━━━━━━━━━━\u001b[0m\u001b[37m\u001b[0m \u001b[1m161s\u001b[0m 23ms/step - accuracy: 0.9854 - loss: 0.0432 - val_accuracy: 0.9408 - val_loss: 0.2174\n",
            "Epoch 10/10\n",
            "\u001b[1m7106/7106\u001b[0m \u001b[32m━━━━━━━━━━━━━━━━━━━━\u001b[0m\u001b[37m\u001b[0m \u001b[1m160s\u001b[0m 23ms/step - accuracy: 0.9888 - loss: 0.0346 - val_accuracy: 0.9406 - val_loss: 0.2312\n"
          ]
        }
      ],
      "source": [
        "'''\n",
        "Batch_size determines how to bunch up the data to go through the network at once\n",
        "For example batch_size = 1000 will take the first 1000 observations to go through\n",
        "the network and then the next 1000 observations and so on\n",
        "By default, when batch_size is not specified, the batch size is set to 32.\n",
        "'''\n",
        "\n",
        "history = model.fit(x_train, y_train, epochs = 10, batch_size = 64,\n",
        "                    validation_data = (x_test, y_test),\n",
        "                    callbacks = [csv_logger])"
      ]
    },
    {
      "cell_type": "code",
      "source": [
        "# Function to graph the metrics of training and validation\n",
        "\n",
        "from matplotlib import pyplot as plt\n",
        "\n",
        "def plot_metrics(history, metric_name):\n",
        "  metric = history.history[metric_name]\n",
        "  val_metric = history.history[\"val_\" + metric_name]\n",
        "\n",
        "  epochs = range(1, len(metric)+1)\n",
        "  plt.plot(epochs, metric, \"blue\", label = metric_name)\n",
        "  plt.plot(epochs, val_metric, \"b--\", label = \"val_\" + metric_name)\n",
        "  plt.xlabel(\"Epochs\")\n",
        "  plt.ylabel(metric_name)\n",
        "  plt.legend()\n",
        "  plt.show()"
      ],
      "metadata": {
        "id": "kRHOUx6G1fR-"
      },
      "execution_count": null,
      "outputs": []
    },
    {
      "cell_type": "code",
      "source": [
        "plot_metrics(history, \"accuracy\")"
      ],
      "metadata": {
        "id": "Hjyy8Dnn1gDH",
        "colab": {
          "base_uri": "https://localhost:8080/",
          "height": 449
        },
        "outputId": "827c51a4-e1a5-42d5-ef73-2027a64c8f25"
      },
      "execution_count": null,
      "outputs": [
        {
          "output_type": "display_data",
          "data": {
            "text/plain": [
              "<Figure size 640x480 with 1 Axes>"
            ],
            "image/png": "[encoded data removed]"
          },
          "metadata": {}
        }
      ]
    },
    {
      "cell_type": "code",
      "source": [
        "plot_metrics(history, \"loss\")"
      ],
      "metadata": {
        "colab": {
          "base_uri": "https://localhost:8080/",
          "height": 454
        },
        "id": "5calBA1BOMXa",
        "outputId": "4da6570d-f54b-4f4a-e805-3c15b811fb1f"
      },
      "execution_count": null,
      "outputs": [
        {
          "output_type": "display_data",
          "data": {
            "text/plain": [
              "<Figure size 640x480 with 1 Axes>"
            ],
            "image/png": "[encoded data removed]"
          },
          "metadata": {}
        }
      ]
    },
    {
      "cell_type": "code",
      "execution_count": null,
      "metadata": {
        "colab": {
          "base_uri": "https://localhost:8080/"
        },
        "id": "NVpMpMpDEfBO",
        "outputId": "d1b27212-2d60-4c80-ae36-3e4c1f956826"
      },
      "outputs": [
        {
          "output_type": "stream",
          "name": "stdout",
          "text": [
            "Loss: 0.23121434450149536\n",
            "Accuracy: 0.9405581951141357\n"
          ]
        }
      ],
      "source": [
        "# Evaluating the model\n",
        "\n",
        "accuracy = model.get_metrics_result()[\"accuracy\"]\n",
        "loss = model.get_metrics_result()[\"loss\"]\n",
        "\n",
        "print(\"Loss:\", loss)\n",
        "print(\"Accuracy:\", accuracy)"
      ]
    },
    {
      "cell_type": "markdown",
      "source": [
        "It seems like our model dimminishes in performace after the 4th epoch, and the model starts overfitting the training data. Therefore let's incorporate early stopping and some regularization to avoid overfitting."
      ],
      "metadata": {
        "id": "pQ8Z08-_l0Gh"
      }
    },
    {
      "cell_type": "code",
      "source": [
        "from keras.callbacks import EarlyStopping\n",
        "\n",
        "# Patience is if the model decreases in performance after 3 epochs\n",
        "\n",
        "early_stopping = EarlyStopping(monitor = \"val_loss\", patience = 3,\n",
        "                               restore_best_weights = True)\n",
        "\n",
        "csv_logger2 = CSVLogger('/content/drive/MyDrive/Colab_Notebooks/etc/training2.log', separator=',', append=False)"
      ],
      "metadata": {
        "id": "qRAZRxWPGd-R"
      },
      "execution_count": null,
      "outputs": []
    },
    {
      "cell_type": "code",
      "source": [
        "# Add some regularization add apply early stopping to reduce the complexity\n",
        "# We will use l2 (Ridge) to penalizes the loss based on the squared sum of the weights\n",
        "\n",
        "regularized_model = Sequential([\n",
        "    Embedding(input_dim = len(tokenizer.get_vocabulary()), output_dim = 64,\n",
        "    mask_zero = True),\n",
        "    LSTM(64, kernel_regularizer = tf.keras.regularizers.l1(0.001)),\n",
        "    Dense(1, activation = \"sigmoid\")])\n",
        "\n",
        "regularized_model.compile(loss = \"binary_crossentropy\", optimizer = \"adam\",\n",
        "                          metrics = [\"accuracy\"])\n",
        "\n",
        "history2 = regularized_model.fit(x_train, y_train, epochs = 10, batch_size = 64,\n",
        "                    validation_data = (x_test, y_test),\n",
        "                    callbacks = [early_stopping, csv_logger2])"
      ],
      "metadata": {
        "id": "dxIMipvO2CLS",
        "colab": {
          "base_uri": "https://localhost:8080/"
        },
        "outputId": "b4075edb-779b-4b46-98c2-88a63741c68a"
      },
      "execution_count": null,
      "outputs": [
        {
          "output_type": "stream",
          "name": "stdout",
          "text": [
            "Epoch 1/10\n",
            "\u001b[1m7106/7106\u001b[0m \u001b[32m━━━━━━━━━━━━━━━━━━━━\u001b[0m\u001b[37m\u001b[0m \u001b[1m167s\u001b[0m 23ms/step - accuracy: 0.8679 - loss: 0.3753 - val_accuracy: 0.8989 - val_loss: 0.2601\n",
            "Epoch 2/10\n",
            "\u001b[1m7106/7106\u001b[0m \u001b[32m━━━━━━━━━━━━━━━━━━━━\u001b[0m\u001b[37m\u001b[0m \u001b[1m163s\u001b[0m 23ms/step - accuracy: 0.9077 - loss: 0.2456 - val_accuracy: 0.9176 - val_loss: 0.2235\n",
            "Epoch 3/10\n",
            "\u001b[1m7106/7106\u001b[0m \u001b[32m━━━━━━━━━━━━━━━━━━━━\u001b[0m\u001b[37m\u001b[0m \u001b[1m162s\u001b[0m 23ms/step - accuracy: 0.9259 - loss: 0.2065 - val_accuracy: 0.9219 - val_loss: 0.2117\n",
            "Epoch 4/10\n",
            "\u001b[1m7106/7106\u001b[0m \u001b[32m━━━━━━━━━━━━━━━━━━━━\u001b[0m\u001b[37m\u001b[0m \u001b[1m162s\u001b[0m 23ms/step - accuracy: 0.9333 - loss: 0.1886 - val_accuracy: 0.9254 - val_loss: 0.2078\n",
            "Epoch 5/10\n",
            "\u001b[1m7106/7106\u001b[0m \u001b[32m━━━━━━━━━━━━━━━━━━━━\u001b[0m\u001b[37m\u001b[0m \u001b[1m161s\u001b[0m 23ms/step - accuracy: 0.9395 - loss: 0.1761 - val_accuracy: 0.9270 - val_loss: 0.2029\n",
            "Epoch 6/10\n",
            "\u001b[1m7106/7106\u001b[0m \u001b[32m━━━━━━━━━━━━━━━━━━━━\u001b[0m\u001b[37m\u001b[0m \u001b[1m163s\u001b[0m 23ms/step - accuracy: 0.9429 - loss: 0.1669 - val_accuracy: 0.9307 - val_loss: 0.1991\n",
            "Epoch 7/10\n",
            "\u001b[1m7106/7106\u001b[0m \u001b[32m━━━━━━━━━━━━━━━━━━━━\u001b[0m\u001b[37m\u001b[0m \u001b[1m162s\u001b[0m 23ms/step - accuracy: 0.9469 - loss: 0.1580 - val_accuracy: 0.9297 - val_loss: 0.2053\n",
            "Epoch 8/10\n",
            "\u001b[1m7106/7106\u001b[0m \u001b[32m━━━━━━━━━━━━━━━━━━━━\u001b[0m\u001b[37m\u001b[0m \u001b[1m161s\u001b[0m 23ms/step - accuracy: 0.9499 - loss: 0.1513 - val_accuracy: 0.9328 - val_loss: 0.1925\n",
            "Epoch 9/10\n",
            "\u001b[1m7106/7106\u001b[0m \u001b[32m━━━━━━━━━━━━━━━━━━━━\u001b[0m\u001b[37m\u001b[0m \u001b[1m162s\u001b[0m 23ms/step - accuracy: 0.9508 - loss: 0.1501 - val_accuracy: 0.9334 - val_loss: 0.1954\n",
            "Epoch 10/10\n",
            "\u001b[1m7106/7106\u001b[0m \u001b[32m━━━━━━━━━━━━━━━━━━━━\u001b[0m\u001b[37m\u001b[0m \u001b[1m162s\u001b[0m 23ms/step - accuracy: 0.9541 - loss: 0.1421 - val_accuracy: 0.9215 - val_loss: 0.2311\n"
          ]
        }
      ]
    },
    {
      "cell_type": "code",
      "source": [
        "plot_metrics(history2, \"accuracy\")\n"
      ],
      "metadata": {
        "colab": {
          "base_uri": "https://localhost:8080/",
          "height": 449
        },
        "id": "4wUNPb2eNLeg",
        "outputId": "743bf9ac-9a83-449b-ed67-5591af49157b"
      },
      "execution_count": null,
      "outputs": [
        {
          "output_type": "display_data",
          "data": {
            "text/plain": [
              "<Figure size 640x480 with 1 Axes>"
            ],
            "image/png": "[encoded data removed]"
          },
          "metadata": {}
        }
      ]
    },
    {
      "cell_type": "code",
      "source": [
        "plot_metrics(history2, \"loss\")"
      ],
      "metadata": {
        "colab": {
          "base_uri": "https://localhost:8080/",
          "height": 449
        },
        "id": "488Zuw0rNSlL",
        "outputId": "480d2f77-8cf1-4b04-c5a5-009a3b0e5c94"
      },
      "execution_count": null,
      "outputs": [
        {
          "output_type": "display_data",
          "data": {
            "text/plain": [
              "<Figure size 640x480 with 1 Axes>"
            ],
            "image/png": "[encoded data removed]"
          },
          "metadata": {}
        }
      ]
    },
    {
      "cell_type": "markdown",
      "source": [
        "Loss and accuracy of our regularized model doesn't seem to perform any better than our inital model. Lets try to train our inital model again but include early stopping and try to reduce the unit number in our LSTM model to reduce the model complexity."
      ],
      "metadata": {
        "id": "_zDZVe-AmLW7"
      }
    },
    {
      "cell_type": "code",
      "source": [
        "model3 = Sequential([\n",
        "    Embedding(input_dim = len(tokenizer.get_vocabulary()), output_dim = 64,\n",
        "    mask_zero = True),\n",
        "    LSTM(32),\n",
        "    Dense(1, activation = \"sigmoid\")])\n",
        "\n",
        "model3.compile(loss = \"binary_crossentropy\", optimizer = \"adam\",\n",
        "                          metrics = [\"accuracy\"])"
      ],
      "metadata": {
        "id": "jSOHWNbMlfyi"
      },
      "execution_count": null,
      "outputs": []
    },
    {
      "cell_type": "code",
      "source": [
        "early_stopping = EarlyStopping(monitor = \"val_loss\", patience = 3,\n",
        "                               restore_best_weights = True)\n",
        "csv_logger3 = CSVLogger('/content/drive/MyDrive/Colab_Notebooks/etc/training3.log', separator=',', append=False)\n",
        "\n",
        "history3 = model3.fit(x_train, y_train, epochs = 10, batch_size = 64,\n",
        "                    validation_data = (x_test, y_test),\n",
        "                    callbacks = [csv_logger, early_stopping])"
      ],
      "metadata": {
        "colab": {
          "base_uri": "https://localhost:8080/"
        },
        "id": "EOJR0PBOe55J",
        "outputId": "157de67a-4640-4c55-8d90-3f2b385dca90"
      },
      "execution_count": null,
      "outputs": [
        {
          "output_type": "stream",
          "name": "stdout",
          "text": [
            "Epoch 1/10\n",
            "\u001b[1m7106/7106\u001b[0m \u001b[32m━━━━━━━━━━━━━━━━━━━━\u001b[0m\u001b[37m\u001b[0m \u001b[1m165s\u001b[0m 23ms/step - accuracy: 0.8784 - loss: 0.2907 - val_accuracy: 0.9240 - val_loss: 0.1957\n",
            "Epoch 2/10\n",
            "\u001b[1m7106/7106\u001b[0m \u001b[32m━━━━━━━━━━━━━━━━━━━━\u001b[0m\u001b[37m\u001b[0m \u001b[1m160s\u001b[0m 22ms/step - accuracy: 0.9343 - loss: 0.1713 - val_accuracy: 0.9338 - val_loss: 0.1701\n",
            "Epoch 3/10\n",
            "\u001b[1m7106/7106\u001b[0m \u001b[32m━━━━━━━━━━━━━━━━━━━━\u001b[0m\u001b[37m\u001b[0m \u001b[1m160s\u001b[0m 23ms/step - accuracy: 0.9487 - loss: 0.1367 - val_accuracy: 0.9370 - val_loss: 0.1671\n",
            "Epoch 4/10\n",
            "\u001b[1m7106/7106\u001b[0m \u001b[32m━━━━━━━━━━━━━━━━━━━━\u001b[0m\u001b[37m\u001b[0m \u001b[1m160s\u001b[0m 23ms/step - accuracy: 0.9573 - loss: 0.1154 - val_accuracy: 0.9400 - val_loss: 0.1635\n",
            "Epoch 5/10\n",
            "\u001b[1m7106/7106\u001b[0m \u001b[32m━━━━━━━━━━━━━━━━━━━━\u001b[0m\u001b[37m\u001b[0m \u001b[1m161s\u001b[0m 23ms/step - accuracy: 0.9649 - loss: 0.0975 - val_accuracy: 0.9389 - val_loss: 0.1716\n",
            "Epoch 6/10\n",
            "\u001b[1m7106/7106\u001b[0m \u001b[32m━━━━━━━━━━━━━━━━━━━━\u001b[0m\u001b[37m\u001b[0m \u001b[1m160s\u001b[0m 23ms/step - accuracy: 0.9693 - loss: 0.0873 - val_accuracy: 0.9421 - val_loss: 0.1845\n",
            "Epoch 7/10\n",
            "\u001b[1m7106/7106\u001b[0m \u001b[32m━━━━━━━━━━━━━━━━━━━━\u001b[0m\u001b[37m\u001b[0m \u001b[1m160s\u001b[0m 22ms/step - accuracy: 0.9757 - loss: 0.0700 - val_accuracy: 0.9387 - val_loss: 0.1879\n"
          ]
        }
      ]
    },
    {
      "cell_type": "code",
      "source": [
        "plot_metrics(history3, \"accuracy\")"
      ],
      "metadata": {
        "colab": {
          "base_uri": "https://localhost:8080/",
          "height": 449
        },
        "id": "RfzoIAvNqAvS",
        "outputId": "6419a334-4290-4ad6-e282-ed9859470db9"
      },
      "execution_count": null,
      "outputs": [
        {
          "output_type": "display_data",
          "data": {
            "text/plain": [
              "<Figure size 640x480 with 1 Axes>"
            ],
            "image/png": "[encoded data removed]"
          },
          "metadata": {}
        }
      ]
    },
    {
      "cell_type": "code",
      "source": [
        "plot_metrics(history3, \"loss\")"
      ],
      "metadata": {
        "colab": {
          "base_uri": "https://localhost:8080/",
          "height": 449
        },
        "id": "ca6Rp3AmqD63",
        "outputId": "a30872cb-fbf3-44dc-c277-73b2296ec8c1"
      },
      "execution_count": null,
      "outputs": [
        {
          "output_type": "display_data",
          "data": {
            "text/plain": [
              "<Figure size 640x480 with 1 Axes>"
            ],
            "image/png": "[encoded data removed]"
          },
          "metadata": {}
        }
      ]
    },
    {
      "cell_type": "markdown",
      "source": [
        "This model seems to be performing around the same as our initial model with a validation accuracy of around 94% and loss of around 0.16. However, lets select this model since it stopped training after the 7th epoch and will be less prone to overfitting and should provide a better generalization of the model for new data."
      ],
      "metadata": {
        "id": "T0OEwr1-U-Rp"
      }
    },
    {
      "cell_type": "code",
      "source": [
        "# Running predictions\n",
        "\n",
        "predictions = model3.predict(x_test)"
      ],
      "metadata": {
        "colab": {
          "base_uri": "https://localhost:8080/"
        },
        "id": "8Ezha7vJkhep",
        "outputId": "2754c31b-2c5a-4949-cfc8-744b3eeaa011"
      },
      "execution_count": null,
      "outputs": [
        {
          "output_type": "stream",
          "name": "stdout",
          "text": [
            "\u001b[1m3553/3553\u001b[0m \u001b[32m━━━━━━━━━━━━━━━━━━━━\u001b[0m\u001b[37m\u001b[0m \u001b[1m22s\u001b[0m 6ms/step\n"
          ]
        }
      ]
    },
    {
      "cell_type": "code",
      "source": [
        "# Since the output of the model is between 0 and 1, I will convert them to binary\n",
        "\n",
        "predictions_binary = np.where(predictions < 0.5, 0, 1)"
      ],
      "metadata": {
        "id": "RN798idNq0n_"
      },
      "execution_count": null,
      "outputs": []
    },
    {
      "cell_type": "code",
      "source": [
        "from sklearn.metrics import roc_auc_score, confusion_matrix, ConfusionMatrixDisplay\n",
        "\n",
        "# ROC Curve, plot of true positive vs false positive rates\n",
        "# Shows how well the model distinguishes between positive and negative classes\n",
        "\n",
        "roc_auc_score(y_test, predictions_binary)"
      ],
      "metadata": {
        "colab": {
          "base_uri": "https://localhost:8080/"
        },
        "id": "KLZ67-xerexh",
        "outputId": "d1e1a5da-3c2e-46c2-add2-7947567bf78c"
      },
      "execution_count": null,
      "outputs": [
        {
          "output_type": "execute_result",
          "data": {
            "text/plain": [
              "0.9086136471108238"
            ]
          },
          "metadata": {},
          "execution_count": 80
        }
      ]
    },
    {
      "cell_type": "code",
      "source": [
        "# Confusion matrix.\n",
        "\n",
        "from functools import cmp_to_key\n",
        "cm = confusion_matrix(y_test, predictions_binary)\n",
        "\n",
        "cm_dist = ConfusionMatrixDisplay(cm/cm.sum())\n",
        "\n",
        "cm_dist.plot(cmap=plt.cm.Blues)\n",
        "plt.title('Confusion Matrix')\n",
        "plt.xlabel('Predicted Label')\n",
        "plt.ylabel('True Label')\n",
        "plt.show()"
      ],
      "metadata": {
        "colab": {
          "base_uri": "https://localhost:8080/",
          "height": 472
        },
        "id": "47mFELhLroL7",
        "outputId": "6af97bea-701b-4afa-b60b-83ad197ef138"
      },
      "execution_count": null,
      "outputs": [
        {
          "output_type": "display_data",
          "data": {
            "text/plain": [
              "<Figure size 640x480 with 2 Axes>"
            ],
            "image/png": "[encoded data removed]"
          },
          "metadata": {}
        }
      ]
    },
    {
      "cell_type": "markdown",
      "source": [
        "Precision is 0.9578, therefore 96.52% of the positive predictions done by our model will be correct.\n",
        "\n",
        "`(Precision = True Positive / (True Positive + False Positive))`\n",
        "\n",
        "Recall is 0.9652, therefore our model will be able to correctly predict positive values 95.78% of the time.\n",
        "\n",
        "`(Recall = True Positive / (True Postive + False Negative))`"
      ],
      "metadata": {
        "id": "nrvwupAMXOfK"
      }
    },
    {
      "cell_type": "code",
      "execution_count": null,
      "metadata": {
        "id": "a88z3EAPDijV"
      },
      "outputs": [],
      "source": [
        "# Save the model\n",
        "model3.save(\"/content/drive/MyDrive/Colab_Notebooks/etc/amazon_reviews_model.keras\")"
      ]
    },
    {
      "cell_type": "code",
      "execution_count": null,
      "metadata": {
        "id": "shvc95ZtKs5d"
      },
      "outputs": [],
      "source": [
        "# Load the model\n",
        "loaded_model = tf.keras.models.load_model('/content/drive/MyDrive/Colab_Notebooks/etc/amazon_reviews_model.keras')"
      ]
    },
    {
      "cell_type": "code",
      "source": [
        "# Get tokenizer\n",
        "with open('/content/drive/MyDrive/Colab_Notebooks/etc/tokenizer.pickle', 'rb') as handle:\n",
        "    tokenizer = pickle.load(handle)"
      ],
      "metadata": {
        "id": "Rr5b5rb450VO"
      },
      "execution_count": null,
      "outputs": []
    },
    {
      "cell_type": "code",
      "execution_count": null,
      "metadata": {
        "id": "w7LOcGT_Mivn"
      },
      "outputs": [],
      "source": [
        "'''\n",
        "Function to have the model predict reviews\n",
        "Output of the model is a probability from 0 to 1 of the review being positive\n",
        "(from sigmoid activation function in our dense layer)\n",
        "'''\n",
        "\n",
        "def predict_review(review):\n",
        "  # Preprocesses the review\n",
        "  test_sequences = tokenizer(review)\n",
        "  test_padded_sequences = pad_sequences([test_sequences])\n",
        "\n",
        "  # Runs the prediction\n",
        "  prediction = loaded_model.predict(test_padded_sequences)[0][0]\n",
        "\n",
        "  if prediction > 0.5:\n",
        "    return \"Positive\"\n",
        "  else:\n",
        "    return \"Negative\""
      ]
    },
    {
      "cell_type": "code",
      "execution_count": null,
      "metadata": {
        "colab": {
          "base_uri": "https://localhost:8080/",
          "height": 52
        },
        "id": "4okhPF7fLYfQ",
        "outputId": "16cc4284-c40e-4b44-83b1-8ef2a41283ef"
      },
      "outputs": [
        {
          "output_type": "stream",
          "name": "stdout",
          "text": [
            "\u001b[1m1/1\u001b[0m \u001b[32m━━━━━━━━━━━━━━━━━━━━\u001b[0m\u001b[37m\u001b[0m \u001b[1m0s\u001b[0m 21ms/step\n"
          ]
        },
        {
          "output_type": "execute_result",
          "data": {
            "text/plain": [
              "'Positive'"
            ],
            "application/vnd.google.colaboratory.intrinsic+json": {
              "type": "string"
            }
          },
          "metadata": {},
          "execution_count": 17
        }
      ],
      "source": [
        "# Testing with a random 5 star amazon review\n",
        "x = \"These are the exact same cimicifuga stems as another expensive seller. I was nervous to purchase but glad I took a chance as these we are fraction of the price. I do wish they came in a long box instead of rolled up to fit in a small square one but totally worth the purchase!!! Shipping was quick too!\"\n",
        "\n",
        "predict_review(x)"
      ]
    },
    {
      "cell_type": "markdown",
      "source": [
        "Some limitations include: computing power (dealing with 500k rows of data), maybe include other regularization techniques such as dropoff. Ran models with higher more regularization which led to low accuracy and high loss scores in comparison to the models with less regularization. Also our dataset was imbalanced (biased towards positive class), perhaps find a way to make sure our dataset is even."
      ],
      "metadata": {
        "id": "GDt9mbCLwMKA"
      }
    }
  ],
  "metadata": {
    "colab": {
      "machine_shape": "hm",
      "provenance": []
    },
    "kernelspec": {
      "display_name": "Python 3",
      "name": "python3"
    },
    "language_info": {
      "name": "python"
    }
  },
  "nbformat": 4,
  "nbformat_minor": 0
}